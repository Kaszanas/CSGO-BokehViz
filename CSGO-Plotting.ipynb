version https://git-lfs.github.com/spec/v1
oid sha256:60c6faddb292c7ae12b7a00a610b7efc305a4e7e037b95965f7dcb29aafc9bb8
size 2581130
